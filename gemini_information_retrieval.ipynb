{
 "cells": [
  {
   "cell_type": "code",
   "id": "1ff3752a-bb2b-4cef-ad60-b224d63aa68a",
   "metadata": {
    "jupyter": {
     "is_executing": true
    },
    "ExecuteTime": {
     "start_time": "2025-06-27T12:52:36.857233Z"
    }
   },
   "source": [
    "!gcloud auth application-default login"
   ],
   "outputs": [],
   "execution_count": null
  },
  {
   "cell_type": "markdown",
   "id": "2bace282-714d-4cf4-85a1-d057a9181e11",
   "metadata": {},
   "source": [
    "# Google GenAI API"
   ]
  },
  {
   "cell_type": "code",
   "execution_count": null,
   "id": "187a8dd0-2fbc-46d1-bf48-9559cb980f3f",
   "metadata": {},
   "outputs": [],
   "source": [
    "import ast\n",
    "import os\n",
    "from pathlib import Path\n",
    "\n",
    "import pandas as pd\n",
    "from google import genai\n",
    "from tqdm.auto import tqdm"
   ]
  },
  {
   "cell_type": "markdown",
   "id": "29729a13-34e1-47f5-9bc8-6b0eea869734",
   "metadata": {},
   "source": [
    "# Defines"
   ]
  },
  {
   "cell_type": "markdown",
   "id": "b3288f5e-4d01-4574-847f-32a31c6e76bd",
   "metadata": {},
   "source": [
    "## Google API"
   ]
  },
  {
   "cell_type": "code",
   "execution_count": null,
   "id": "fd919633-1f51-42fb-b4d1-73ecad66028e",
   "metadata": {},
   "outputs": [],
   "source": [
    "api_key = \"\"  # Set the API key\n",
    "model_name = \"gemini-2.5-pro-exp-03-25\""
   ]
  },
  {
   "cell_type": "code",
   "execution_count": null,
   "id": "877f9438-81d5-48d9-a55e-7ea09cccb9d0",
   "metadata": {},
   "outputs": [],
   "source": [
    "client = genai.Client(api_key=api_key)"
   ]
  },
  {
   "cell_type": "code",
   "execution_count": null,
   "id": "36910c01-c6f2-4eb3-8ed6-1099af962b71",
   "metadata": {},
   "outputs": [],
   "source": [
    "generate_config = genai.types.GenerateContentConfig(\n",
    "    temperature=0,\n",
    "    topK=1\n",
    ")"
   ]
  },
  {
   "cell_type": "code",
   "execution_count": null,
   "id": "306f21d5-30b7-41ed-85c4-649606af84fe",
   "metadata": {},
   "outputs": [],
   "source": [
    "# Test run\n",
    "response = client.models.generate_content(\n",
    "    model=model_name,\n",
    "    contents=\"How are you doing today?\",\n",
    "    config=generate_config\n",
    ")\n",
    "\n",
    "print(response.text)"
   ]
  },
  {
   "cell_type": "markdown",
   "id": "74014224-06a3-4fa0-96b5-562551b30bcd",
   "metadata": {},
   "source": [
    "## Files"
   ]
  },
  {
   "cell_type": "code",
   "execution_count": null,
   "id": "69d3dfe4-8d09-41f5-b3da-584d35289acc",
   "metadata": {},
   "outputs": [],
   "source": [
    "raw_data_dir = os.path.join(\"data\", \"raw\")\n",
    "pdf_data_dir = os.path.join(raw_data_dir, \"pdf\")\n",
    "\n",
    "output_data_dir = os.path.join(\"data\", \"processed\")\n",
    "os.makedirs(output_data_dir, exist_ok=True)"
   ]
  },
  {
   "cell_type": "code",
   "execution_count": null,
   "id": "181affc5-4400-4573-8a64-5778ab9099c8",
   "metadata": {},
   "outputs": [],
   "source": [
    "pdf_file_list = [x for x in Path(pdf_data_dir).glob(\"*.pdf\")]"
   ]
  },
  {
   "cell_type": "markdown",
   "id": "635f58a8-3448-4872-a053-140a601ce6f8",
   "metadata": {},
   "source": [
    "# Methods"
   ]
  },
  {
   "cell_type": "code",
   "execution_count": null,
   "id": "c1bf5afa-0c15-42dc-809d-35707a7c9f4b",
   "metadata": {},
   "outputs": [],
   "source": [
    "def parse_str_to_dict(input_str):\n",
    "    try:\n",
    "        out = ast.literal_eval(\n",
    "            input_str.replace(\"```python\\n\", \"\").replace(\"```\", \"\")\n",
    "        )\n",
    "        out = {k.lower(): v for k, v in out.items()}\n",
    "    except Exception:\n",
    "        out = None\n",
    "    return out"
   ]
  },
  {
   "cell_type": "code",
   "execution_count": null,
   "id": "d8fdc3a4-cdb6-474f-abc8-02cdcc609315",
   "metadata": {},
   "outputs": [],
   "source": [
    "def get_paper_metadata(file):\n",
    "    prompt = \"Extract the following information the academic paper provided to you in a file (if it is available); \"\\\n",
    "    \"value in square brackets is the name of the key you should use (e.g. ' - Authors [authors]' means \"\\\n",
    "    \"put information about authors under the key called 'authors'):\\n\"\\\n",
    "    \" - Authors [authors] \\n\"\\\n",
    "    \" - Title [title] \\n\"\\\n",
    "    \" - Year [year] \\n\"\\\n",
    "    \" - PubMed ID [pmid] (search for it in www.ncbi.nlm.nih.gov) \\n\"\\\n",
    "    \"Please give your answer as a parsable python dictionary; put None if there is no data; \"\\\n",
    "    \"add explanations as inline comments (use # sign to start a comment)\"\n",
    "\n",
    "    response = client.models.generate_content(\n",
    "        model=model_name,\n",
    "        contents=[file, prompt],\n",
    "        config=generate_config\n",
    "    )\n",
    "\n",
    "    return response"
   ]
  },
  {
   "cell_type": "code",
   "execution_count": null,
   "id": "a64505f7-7486-46ad-b726-75121ab4aefc",
   "metadata": {},
   "outputs": [],
   "source": [
    "def get_paper_cases(file):\n",
    "    prompt_counts = \"Does the paper mention any individual cases? In this context, a case is a single human subject who is affected \"\\\n",
    "    \"by a disease. If there are such cases, please give how many there were.\"\n",
    "\n",
    "    response_counts = client.models.generate_content(\n",
    "        model=model_name,\n",
    "        contents=[file, prompt_counts],\n",
    "        config=generate_config\n",
    "    )\n",
    "\n",
    "    prompt = f\"Your previous response: \\n{response_counts.text} \\n\\n\"\\\n",
    "    \"For each individual case in the paper, extract the following information about each case (if it is available); \"\\\n",
    "    \"value in square brackets is the name of the key you should use (e.g. ' - Authors [authors]' means \"\\\n",
    "    \"put information about authors under the key called 'authors'):\\n\"\\\n",
    "    \" - Age at examination [aae] \\n\"\\\n",
    "    \" - Age at disease onset [aao] \\n\"\\\n",
    "    \" - Sex [sex] \\n\"\\\n",
    "    \" - Type of mutation - nucleotide change [mutation_nucleotide_change] \\n\"\\\n",
    "    \" - Type of mutation - protein (amino acid) change [mutation_protein_change] \\n\"\\\n",
    "    \" - Copy number variation [cnv] \\n\"\\\n",
    "    \" - Single point variation nucleotide change (possible values: Insertion, Deletion, Substitution) [snv] \\n\"\\\n",
    "    \" - Single nucleotide variation impact on protein (possible values: Frameshift, Nonsense, Missense, Silent) [snv_protein] \\n\"\\\n",
    "    \" - Zygocity [zygocity] \\n\"\\\n",
    "    \"Please give your answer as a parsable python dictionary where the key is the case number; put None if there is no data; add \"\\\n",
    "    \"explanations as inline comments (use # sign to start a comment)\"\n",
    "\n",
    "    response = client.models.generate_content(\n",
    "        model=model_name,\n",
    "        contents=[file, prompt],\n",
    "        config=generate_config\n",
    "    )\n",
    "\n",
    "    return response"
   ]
  },
  {
   "cell_type": "markdown",
   "id": "99dacdc5-08d1-4246-b95c-7b7e8712fa17",
   "metadata": {},
   "source": [
    "# Analysis"
   ]
  },
  {
   "cell_type": "code",
   "execution_count": null,
   "id": "9ce736f5-0c07-4c72-a6a9-0f6477885ded",
   "metadata": {},
   "outputs": [],
   "source": [
    "metadata_dict = {}\n",
    "cases_dict = {}"
   ]
  },
  {
   "cell_type": "code",
   "execution_count": null,
   "id": "5fcf1648-35f9-4f2f-a7ae-0684d30c0a4c",
   "metadata": {},
   "outputs": [],
   "source": [
    "# file_iter = tqdm(pdf_file_list)\n",
    "file_iter = tqdm(pdf_file_list[:5])\n",
    "\n",
    "for cur_file in file_iter:\n",
    "    file_iter.set_description(f'Processing {cur_file.name}')\n",
    "\n",
    "    cur_output_dir = os.path.join(output_data_dir, cur_file.stem)\n",
    "    os.makedirs(cur_output_dir, exist_ok=True)\n",
    "    \n",
    "    # Uploading file \n",
    "    file_iter.set_postfix_str('Uploading file')\n",
    "\n",
    "    file = client.files.upload(\n",
    "        file=cur_file,\n",
    "    )\n",
    "    \n",
    "    # Getting paper's metadata \n",
    "    try:\n",
    "        file_iter.set_postfix_str(\"Getting paper's metadata\")\n",
    "        response_metadata = get_paper_metadata(file)\n",
    "        Path(os.path.join(cur_output_dir, 'metadata.txt')).write_text(response_metadata.text)\n",
    "        metadata_dict[cur_file.stem] = parse_str_to_dict(response_metadata.text)\n",
    "    except Exception as e:\n",
    "        print(f'Exception when getting metadata from {cur_file.stem}: \\n{e}')\n",
    "        metadata_dict[cur_file.stem] = None\n",
    "\n",
    "    # Getting cases \n",
    "    try:\n",
    "        file_iter.set_postfix_str(\"Getting paper's cases\")\n",
    "        response_cases = get_paper_cases(file)\n",
    "        Path(os.path.join(cur_output_dir, 'cases.txt')).write_text(response_cases.text)\n",
    "        cases_dict[cur_file.stem] = parse_str_to_dict(response_cases.text)\n",
    "    except Exception as e:\n",
    "        print(f'Exception when getting cases from {cur_file.stem}: \\n{e}')\n",
    "        cases_dict[cur_file.stem] = None"
   ]
  },
  {
   "cell_type": "markdown",
   "id": "a99816ee-ecde-4bd9-9563-21c4a7a4f3f9",
   "metadata": {},
   "source": [
    "## DataFrames"
   ]
  },
  {
   "cell_type": "code",
   "execution_count": null,
   "id": "c3a1d519-fa2f-4f3c-9236-2e65ae43b39a",
   "metadata": {},
   "outputs": [],
   "source": [
    "df_metadata = pd.DataFrame.from_dict(metadata_dict, orient='index')"
   ]
  },
  {
   "cell_type": "code",
   "execution_count": null,
   "id": "918997d1-55f4-4a63-9a15-ef3ef0ef4f79",
   "metadata": {},
   "outputs": [],
   "source": [
    "df_metadata.to_csv(\n",
    "    os.path.join(output_data_dir, \"metadata.csv\")\n",
    ")"
   ]
  },
  {
   "cell_type": "code",
   "execution_count": null,
   "id": "035700a2-42d1-4bb6-b7b0-8cb95d5e5ce8",
   "metadata": {},
   "outputs": [],
   "source": [
    "df_cases_list = []\n",
    "for k, v in cases_dict.items():\n",
    "    df_cur = pd.DataFrame.from_dict(v, orient='index')\n",
    "    df_cur['file'] = k\n",
    "    df_cases_list.append(df_cur)"
   ]
  },
  {
   "cell_type": "code",
   "execution_count": null,
   "id": "e6e3bd6a-dd38-4f2d-bc54-0ad934e713c2",
   "metadata": {},
   "outputs": [],
   "source": [
    "pd.concat(df_cases_list).to_csv(\n",
    "    os.path.join(output_data_dir, \"cases.csv\")\n",
    ")"
   ]
  }
 ],
 "metadata": {
  "kernelspec": {
   "display_name": "Python 3 (ipykernel)",
   "language": "python",
   "name": "python3"
  },
  "language_info": {
   "codemirror_mode": {
    "name": "ipython",
    "version": 3
   },
   "file_extension": ".py",
   "mimetype": "text/x-python",
   "name": "python",
   "nbconvert_exporter": "python",
   "pygments_lexer": "ipython3",
   "version": "3.12.9"
  }
 },
 "nbformat": 4,
 "nbformat_minor": 5
}
