{
 "cells": [
  {
   "cell_type": "code",
   "execution_count": null,
   "id": "1ff3752a-bb2b-4cef-ad60-b224d63aa68a",
   "metadata": {},
   "outputs": [],
   "source": [
    "!gcloud auth application-default login"
   ]
  },
  {
   "cell_type": "markdown",
   "id": "2bace282-714d-4cf4-85a1-d057a9181e11",
   "metadata": {},
   "source": [
    "# Google GenAI API"
   ]
  },
  {
   "cell_type": "code",
   "execution_count": 1,
   "id": "187a8dd0-2fbc-46d1-bf48-9559cb980f3f",
   "metadata": {},
   "outputs": [],
   "source": [
    "from pathlib import Path\n",
    "from google import genai"
   ]
  },
  {
   "cell_type": "code",
   "execution_count": 25,
   "id": "fd919633-1f51-42fb-b4d1-73ecad66028e",
   "metadata": {},
   "outputs": [],
   "source": [
    "api_key = \"\"  # Set the API key\n",
    "model_name = \"gemini-2.5-pro-exp-03-25\""
   ]
  },
  {
   "cell_type": "code",
   "execution_count": 7,
   "id": "877f9438-81d5-48d9-a55e-7ea09cccb9d0",
   "metadata": {},
   "outputs": [],
   "source": [
    "client = genai.Client(api_key=api_key)"
   ]
  },
  {
   "cell_type": "code",
   "execution_count": 83,
   "id": "36910c01-c6f2-4eb3-8ed6-1099af962b71",
   "metadata": {},
   "outputs": [],
   "source": [
    "generate_config = genai.types.GenerateContentConfig(\n",
    "    temperature=0,\n",
    "    topK=1\n",
    ")"
   ]
  },
  {
   "cell_type": "code",
   "execution_count": 85,
   "id": "306f21d5-30b7-41ed-85c4-649606af84fe",
   "metadata": {},
   "outputs": [
    {
     "name": "stdout",
     "output_type": "stream",
     "text": [
      "Thanks for asking! As an AI, I don't have feelings or days in the human sense, but I'm functioning well and ready to help with any questions or tasks you have.\n",
      "\n",
      "How about you? How's your day going?\n"
     ]
    }
   ],
   "source": [
    "response = client.models.generate_content(\n",
    "    model=model_name,\n",
    "    contents=\"How are you doing today?\",\n",
    "    config=generate_config\n",
    ")\n",
    "\n",
    "print(response.text)"
   ]
  },
  {
   "cell_type": "markdown",
   "id": "618a0a97-1d2f-4dd6-abd8-e8132d6d7818",
   "metadata": {},
   "source": [
    "## Getting the file"
   ]
  },
  {
   "cell_type": "code",
   "execution_count": 27,
   "id": "0ccc16d7-d03c-4eba-9c6c-fff6d3fc5dde",
   "metadata": {},
   "outputs": [],
   "source": [
    "file_path = Path(\"data/raw/pdf/hanagasi2016.pdf\")"
   ]
  },
  {
   "cell_type": "code",
   "execution_count": 28,
   "id": "add17b78-296d-4515-a7ea-831cadb021c0",
   "metadata": {
    "scrolled": true
   },
   "outputs": [],
   "source": [
    "file = client.files.upload(\n",
    "    file=file_path,\n",
    ")"
   ]
  },
  {
   "cell_type": "markdown",
   "id": "db831807-afec-4855-aff3-6b79eedea3e1",
   "metadata": {},
   "source": [
    "## PubMed ID"
   ]
  },
  {
   "cell_type": "code",
   "execution_count": 86,
   "id": "183e81be-ab78-46ca-8606-164c95aa74cc",
   "metadata": {},
   "outputs": [],
   "source": [
    "prompt = \"Please give the name of the paper, its author and year. Also find the PubMed ID of the paper - use the search tool to get this value, \" \\\n",
    "\"do not rely on your memory for that.\""
   ]
  },
  {
   "cell_type": "code",
   "execution_count": 87,
   "id": "1c04ef40-20e8-4100-8b1c-3364ef9602bd",
   "metadata": {},
   "outputs": [],
   "source": [
    "response = client.models.generate_content(\n",
    "    model=model_name,\n",
    "    contents=[file, prompt],\n",
    "    config=generate_config\n",
    ")"
   ]
  },
  {
   "cell_type": "code",
   "execution_count": 88,
   "id": "b23bcba4-2a71-4be3-9cef-9c3d6e032bb6",
   "metadata": {
    "scrolled": true
   },
   "outputs": [
    {
     "data": {
      "text/plain": [
       "'Okay, here is the information based on the provided article:\\n\\n*   **Paper Name:** A novel homozygous DJ1 mutation causes parkinsonism and ALS in a Turkish family\\n*   **Author (First):** Hasmet A. Hanagasi\\n*   **Year:** 2016\\n*   **PubMed ID:** 26971994'"
      ]
     },
     "execution_count": 88,
     "metadata": {},
     "output_type": "execute_result"
    }
   ],
   "source": [
    "print(response.text)"
   ]
  },
  {
   "cell_type": "markdown",
   "id": "ed436abc-c95f-46c3-a65b-94f7e00019e4",
   "metadata": {},
   "source": [
    "## Number of cases"
   ]
  },
  {
   "cell_type": "code",
   "execution_count": 89,
   "id": "4c342792-83e4-4376-b0d1-a60eae24a29d",
   "metadata": {},
   "outputs": [],
   "source": [
    "prompt = \"Does the paper mention any individual cases? In this context, a case is a single human subject who is affected \"\\\n",
    "\"by a disease. If there are such cases, please give how many there were.\""
   ]
  },
  {
   "cell_type": "code",
   "execution_count": 90,
   "id": "eda7f1a2-5f8f-49e6-8244-6e9970cc2a11",
   "metadata": {},
   "outputs": [],
   "source": [
    "response_counts = client.models.generate_content(\n",
    "    model=model_name,\n",
    "    contents=[file, prompt],\n",
    "    config=generate_config\n",
    ")"
   ]
  },
  {
   "cell_type": "code",
   "execution_count": 91,
   "id": "f0532e5f-14a9-4f30-926b-8576e6429750",
   "metadata": {
    "scrolled": true
   },
   "outputs": [
    {
     "name": "stdout",
     "output_type": "stream",
     "text": [
      "Yes, the paper mentions individual cases.\n",
      "\n",
      "It describes a family where three individuals were affected:\n",
      "1.  The index case (Individual IV-4), a 38-year-old man.\n",
      "2.  His affected sister (Individual IV-5), a 38-year-old woman.\n",
      "3.  His other affected sister (Individual IV-11), a 27-year-old woman.\n",
      "\n",
      "Therefore, there are **3** individual cases described in the paper.\n"
     ]
    }
   ],
   "source": [
    "print(response_counts.text)"
   ]
  },
  {
   "cell_type": "markdown",
   "id": "442b5f56-41bf-4666-adee-c60d2b6a5017",
   "metadata": {},
   "source": [
    "## Extraction"
   ]
  },
  {
   "cell_type": "code",
   "execution_count": 109,
   "id": "bd46e05b-72e4-4731-843d-e96e853af3b4",
   "metadata": {},
   "outputs": [],
   "source": [
    "prompt = f\"Your previous response: \\n{response_counts.text} \\n\\n\"\\\n",
    "\"For each individual case in the paper, extract the following information about each case (if it is available):\\n\"\\\n",
    "\" - Age at examination (call it AAE) \\n\"\\\n",
    "\" - Age at disease onset (call it AAO) \\n\"\\\n",
    "\" - Sex \\n\"\\\n",
    "\" - Type of mutation - nucleotide change \\n\"\\\n",
    "\" - Type of mutation - protein (amino acid) change \\n\"\\\n",
    "\" - Copy number variation (call the field CNV) \\n\"\\\n",
    "\" - Single point variation nucleotide change (possible values: Insertion, Deletion, Substitution; call the field SNV) \\n\"\\\n",
    "\" - Single nucleotide variation impact on protein (possible values: Frameshift, Nonsense, Missense, Silent) \\n\"\\\n",
    "\" - Zygocity \\n\"\\\n",
    "\"Please give your answer as a parsable python dictionary where the key is the case number; put None if there is no data; add \"\\\n",
    "\"explanations as inline comments (use # sign to start a comment)\""
   ]
  },
  {
   "cell_type": "code",
   "execution_count": 110,
   "id": "94708807-d047-41fd-8c6e-5dd04bc03feb",
   "metadata": {},
   "outputs": [
    {
     "name": "stdout",
     "output_type": "stream",
     "text": [
      "Your previous response: \n",
      "Yes, the paper mentions individual cases.\n",
      "\n",
      "It describes a family where three individuals were affected:\n",
      "1.  The index case (Individual IV-4), a 38-year-old man.\n",
      "2.  His affected sister (Individual IV-5), a 38-year-old woman.\n",
      "3.  His other affected sister (Individual IV-11), a 27-year-old woman.\n",
      "\n",
      "Therefore, there are **3** individual cases described in the paper. \n",
      "\n",
      "For each individual case in the paper, extract the following information about each case (if it is available):\n",
      " - Age at examination (call it AAE) \n",
      " - Age at disease onset (call it AAO) \n",
      " - Sex \n",
      " - Type of mutation - nucleotide change \n",
      " - Type of mutation - protein (amino acid) change \n",
      " - Copy number variation (call the field CNV) \n",
      " - Single point variation nucleotide change (possible values: Insertion, Deletion, Substitution; call the field SNV) \n",
      " - Single nucleotide variation impact on protein (possible values: Frameshift, Nonsense, Missense, Silent) \n",
      " - Zygocity \n",
      "Please give your answer as a parsable python dictionary where the key is the case number; put None if there is no data; add explanations as inline comments (use # sign to start a comment)\n"
     ]
    }
   ],
   "source": [
    "print(prompt)"
   ]
  },
  {
   "cell_type": "code",
   "execution_count": 111,
   "id": "19ffe3ec-b09f-42c1-9458-b8de2841a522",
   "metadata": {},
   "outputs": [],
   "source": [
    "response = client.models.generate_content(\n",
    "    model=model_name,\n",
    "    contents=[file, prompt],\n",
    "    config=generate_config\n",
    ")"
   ]
  },
  {
   "cell_type": "code",
   "execution_count": 112,
   "id": "a94dcd6b-4543-4b6c-ab4f-b9693b67e061",
   "metadata": {},
   "outputs": [
    {
     "name": "stdout",
     "output_type": "stream",
     "text": [
      "```python\n",
      "{\n",
      "    \"Case 1\": { # Corresponds to individual IV-4 in the paper\n",
      "        \"AAE\": 37, # Age at last examination mentioned in the detailed description (Section 3.2)\n",
      "        \"AAO\": 24, # Age at onset of left hand tremor (Section 3.2)\n",
      "        \"Sex\": \"Male\", # Described as \"man\" (Section 3.2)\n",
      "        \"Type of mutation - nucleotide change\": \"c.133C>T\", # Identified in section 3.5 for all affected individuals\n",
      "        \"Type of mutation - protein (amino acid) change\": \"p.Q45X\", # Identified in section 3.5 for all affected individuals (Q=Glutamine, X=Stop codon)\n",
      "        \"CNV\": None, # The mutation is a point mutation, not a Copy Number Variation\n",
      "        \"SNV\": \"Substitution\", # A single nucleotide C is replaced by T\n",
      "        \"Single nucleotide variation impact on protein\": \"Nonsense\", # Results in a premature stop codon (X)\n",
      "        \"Zygocity\": \"Homozygous\" # Stated in section 3.5 and Figure 1 legend (M/M)\n",
      "    },\n",
      "    \"Case 2\": { # Corresponds to individual IV-5 in the paper\n",
      "        \"AAE\": 38, # Age at examination mentioned (Section 3.3)\n",
      "        \"AAO\": 35, # Age at onset of slowness and blepharospasm (Section 3.3)\n",
      "        \"Sex\": \"Female\", # Described as \"house wife\" (Section 3.3)\n",
      "        \"Type of mutation - nucleotide change\": \"c.133C>T\", # Same mutation as other affected individuals (Section 3.5)\n",
      "        \"Type of mutation - protein (amino acid) change\": \"p.Q45X\", # Same mutation as other affected individuals (Section 3.5)\n",
      "        \"CNV\": None, # Not a CNV\n",
      "        \"SNV\": \"Substitution\", # C replaced by T\n",
      "        \"Single nucleotide variation impact on protein\": \"Nonsense\", # Results in a premature stop codon (X)\n",
      "        \"Zygocity\": \"Homozygous\" # Stated in section 3.5 and Figure 1 legend (M/M)\n",
      "    },\n",
      "    \"Case 3\": { # Corresponds to individual IV-11 in the paper\n",
      "        \"AAE\": 27, # Age at examination mentioned (Section 3.4)\n",
      "        \"AAO\": 23, # Age 22 (depression onset) + 1 year for onset of tremor/bradykinesia (Section 3.4)\n",
      "        \"Sex\": \"Female\", # Described as \"house wife\" (Section 3.4)\n",
      "        \"Type of mutation - nucleotide change\": \"c.133C>T\", # Same mutation as other affected individuals (Section 3.5)\n",
      "        \"Type of mutation - protein (amino acid) change\": \"p.Q45X\", # Same mutation as other affected individuals (Section 3.5)\n",
      "        \"CNV\": None, # Not a CNV\n",
      "        \"SNV\": \"Substitution\", # C replaced by T\n",
      "        \"Single nucleotide variation impact on protein\": \"Nonsense\", # Results in a premature stop codon (X)\n",
      "        \"Zygocity\": \"Homozygous\" # Stated in section 3.5 and Figure 1 legend (M/M)\n",
      "    }\n",
      "}\n",
      "```\n"
     ]
    }
   ],
   "source": [
    "print(response.text)"
   ]
  },
  {
   "cell_type": "code",
   "execution_count": 101,
   "id": "1d9157d3-6ab9-4f0a-b601-2565de2a5159",
   "metadata": {},
   "outputs": [],
   "source": [
    "tst = {\n",
    "  \"case_IV-4\": {\n",
    "    \"AAE\": 37, # Age at last examination mentioned in the detailed description (Section 3.2)\n",
    "    \"AAO\": 24, # Age at disease onset (Section 3.2)\n",
    "    \"Sex\": \"Male\", # Described as \"man\" (Section 3.2)\n",
    "    \"Type of mutation - nucleotide change\": \"c.133C>T\", # Identified in genetic findings (Section 3.5) for all affected members\n",
    "    \"Type of mutation - protein (amino acid) change\": \"p.Q45X\", # Identified in genetic findings (Section 3.5) for all affected members, X denotes stop codon\n",
    "    \"CNV\": None, # The mutation is a point mutation, not described as a copy number variation\n",
    "    \"Zygocity\": \"Homozygous\" # Stated in genetic findings (Section 3.5) and pedigree figure (Fig 1A)\n",
    "  },\n",
    "  \"case_IV-5\": {\n",
    "    \"AAE\": 38, # Age at neurological examination (Section 3.3)\n",
    "    \"AAO\": 35, # Age at disease onset (Section 3.3)\n",
    "    \"Sex\": \"Female\", # Described as \"house wife\" (Section 3.3)\n",
    "    \"Type of mutation - nucleotide change\": \"c.133C>T\", # Segregated with disease in the family (Section 3.5)\n",
    "    \"Type of mutation - protein (amino acid) change\": \"p.Q45X\", # Segregated with disease in the family (Section 3.5)\n",
    "    \"CNV\": None, # The mutation is a point mutation, not described as a copy number variation\n",
    "    \"Zygocity\": \"Homozygous\" # Segregated with disease in the family (Section 3.5) and pedigree figure (Fig 1A)\n",
    "  },\n",
    "  \"case_IV-11\": {\n",
    "    \"AAE\": 27, # Age at neurological examination (Section 3.4)\n",
    "    \"AAO\": 23, # Age at disease onset (1 year after depression onset at age 22) (Section 3.4)\n",
    "    \"Sex\": \"Female\", # Described as \"house wife\" (Section 3.4)\n",
    "    \"Type of mutation - nucleotide change\": \"c.133C>T\", # Segregated with disease in the family (Section 3.5)\n",
    "    \"Type of mutation - protein (amino acid) change\": \"p.Q45X\", # Segregated with disease in the family (Section 3.5)\n",
    "    \"CNV\": None, # The mutation is a point mutation, not described as a copy number variation\n",
    "    \"Zygocity\": \"Homozygous\" # Segregated with disease in the family (Section 3.5) and pedigree figure (Fig 1A)\n",
    "  }\n",
    "}"
   ]
  },
  {
   "cell_type": "code",
   "execution_count": 102,
   "id": "e3fefe8d-335c-428a-acd8-8ff495c4f770",
   "metadata": {},
   "outputs": [],
   "source": [
    "import pandas as pd"
   ]
  },
  {
   "cell_type": "code",
   "execution_count": 105,
   "id": "575a6bb6-611e-4927-83f2-3b6c27e58b84",
   "metadata": {},
   "outputs": [
    {
     "data": {
      "text/html": [
       "<div>\n",
       "<style scoped>\n",
       "    .dataframe tbody tr th:only-of-type {\n",
       "        vertical-align: middle;\n",
       "    }\n",
       "\n",
       "    .dataframe tbody tr th {\n",
       "        vertical-align: top;\n",
       "    }\n",
       "\n",
       "    .dataframe thead th {\n",
       "        text-align: right;\n",
       "    }\n",
       "</style>\n",
       "<table border=\"1\" class=\"dataframe\">\n",
       "  <thead>\n",
       "    <tr style=\"text-align: right;\">\n",
       "      <th></th>\n",
       "      <th>AAE</th>\n",
       "      <th>AAO</th>\n",
       "      <th>Sex</th>\n",
       "      <th>Type of mutation - nucleotide change</th>\n",
       "      <th>Type of mutation - protein (amino acid) change</th>\n",
       "      <th>CNV</th>\n",
       "      <th>Zygocity</th>\n",
       "    </tr>\n",
       "  </thead>\n",
       "  <tbody>\n",
       "    <tr>\n",
       "      <th>case_IV-4</th>\n",
       "      <td>37</td>\n",
       "      <td>24</td>\n",
       "      <td>Male</td>\n",
       "      <td>c.133C&gt;T</td>\n",
       "      <td>p.Q45X</td>\n",
       "      <td>None</td>\n",
       "      <td>Homozygous</td>\n",
       "    </tr>\n",
       "    <tr>\n",
       "      <th>case_IV-5</th>\n",
       "      <td>38</td>\n",
       "      <td>35</td>\n",
       "      <td>Female</td>\n",
       "      <td>c.133C&gt;T</td>\n",
       "      <td>p.Q45X</td>\n",
       "      <td>None</td>\n",
       "      <td>Homozygous</td>\n",
       "    </tr>\n",
       "    <tr>\n",
       "      <th>case_IV-11</th>\n",
       "      <td>27</td>\n",
       "      <td>23</td>\n",
       "      <td>Female</td>\n",
       "      <td>c.133C&gt;T</td>\n",
       "      <td>p.Q45X</td>\n",
       "      <td>None</td>\n",
       "      <td>Homozygous</td>\n",
       "    </tr>\n",
       "  </tbody>\n",
       "</table>\n",
       "</div>"
      ],
      "text/plain": [
       "           AAE AAO     Sex Type of mutation - nucleotide change  \\\n",
       "case_IV-4   37  24    Male                             c.133C>T   \n",
       "case_IV-5   38  35  Female                             c.133C>T   \n",
       "case_IV-11  27  23  Female                             c.133C>T   \n",
       "\n",
       "           Type of mutation - protein (amino acid) change   CNV    Zygocity  \n",
       "case_IV-4                                          p.Q45X  None  Homozygous  \n",
       "case_IV-5                                          p.Q45X  None  Homozygous  \n",
       "case_IV-11                                         p.Q45X  None  Homozygous  "
      ]
     },
     "execution_count": 105,
     "metadata": {},
     "output_type": "execute_result"
    }
   ],
   "source": [
    "pd.DataFrame.from_dict(tst).T"
   ]
  }
 ],
 "metadata": {
  "kernelspec": {
   "display_name": "Python 3 (ipykernel)",
   "language": "python",
   "name": "python3"
  },
  "language_info": {
   "codemirror_mode": {
    "name": "ipython",
    "version": 3
   },
   "file_extension": ".py",
   "mimetype": "text/x-python",
   "name": "python",
   "nbconvert_exporter": "python",
   "pygments_lexer": "ipython3",
   "version": "3.12.9"
  }
 },
 "nbformat": 4,
 "nbformat_minor": 5
}
